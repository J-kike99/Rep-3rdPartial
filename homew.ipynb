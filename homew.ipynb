{
 "cells": [
  {
   "cell_type": "markdown",
   "metadata": {},
   "source": [
    "## Excersice 13 Parameter , Unpaking and Variables"
   ]
  },
  {
   "cell_type": "code",
   "execution_count": null,
   "metadata": {},
   "outputs": [],
   "source": [
    "##This should be the code from \"ex13.py\"\n",
    "from sys import argv\n",
    "\n",
    "\n",
    "script , first , second , third = argv\n",
    "print(\"your script is:\",script)\n",
    "print(\"your first variable is:\",first)\n",
    "print (\"Your second variable is :\",second)\n",
    "print(\"Your third varibale is :\"third)"
   ]
  },
  {
   "cell_type": "markdown",
   "metadata": {},
   "source": [
    "In this excersice we use the command \"argv\" and we are calling the \"ex13.py\" with diferent data"
   ]
  },
  {
   "cell_type": "code",
   "execution_count": 1,
   "metadata": {},
   "outputs": [
    {
     "name": "stdout",
     "output_type": "stream",
     "text": [
      "The script is : ex13.py\n",
      "The first variable is : dog\n",
      "The second varible is : cat\n",
      "The third variable is : ham\n"
     ]
    }
   ],
   "source": [
    "!python ex13.py dog cat ham"
   ]
  },
  {
   "cell_type": "markdown",
   "metadata": {},
   "source": [
    "## Excersice 14 Prompting and Passing"
   ]
  },
  {
   "cell_type": "markdown",
   "metadata": {},
   "source": [
    "Lets do and excerise using argv and input together with a specific user "
   ]
  },
  {
   "cell_type": "code",
   "execution_count": null,
   "metadata": {},
   "outputs": [],
   "source": [
    "from sys import argv\n",
    "script , user_name = argv\n",
    "prompt = ' > '\n",
    "\n",
    "print(f\"Hi {user_name}, I'm the script {script}.\")\n",
    "print(\"I'd like to ask you a few questions.\")\n",
    "print(f\"Do you like me {user_name}?\")\n",
    "likes= input(prompt)\n",
    "\n",
    "print(f\"Where do you live {user_name} ?\")\n",
    "lives=input(prompt)\n",
    "\n",
    "print(\"What kind of computer do you have?\")\n",
    "computer=input(prompt)\n",
    "\n",
    "print(f\"\"\"\n",
    "Alright , so you said {likes} about liking me.\n",
    "You live in {lives}. Not sure where that is.\n",
    "And you have a {computer}. nice.\n",
    "\"\"\")"
   ]
  },
  {
   "cell_type": "code",
   "execution_count": null,
   "metadata": {},
   "outputs": [],
   "source": [
    "PS C:\\Users\\Axel Tovar> python ex14.py Axel\n",
    "Hi Axel, I'm the script ex14.py.\n",
    "I'd like to ask you a few questions.\n",
    "Do you like me Axel?\n",
    " > yes\n",
    "Where do you live Axel ?\n",
    " > CD. Madero\n",
    "What kind of computer do you have?\n",
    " > Gamer\n",
    "\n",
    "Alright , so you said yes about liking me.\n",
    "You live in CD. Madero. Not sure where that is.\n",
    "And you have a Gamer. nice.\n",
    "## I ran this in a terminal "
   ]
  },
  {
   "cell_type": "markdown",
   "metadata": {},
   "source": [
    "This excersice is the almost the same that the previous , the unique diference is that we use a inputs.<strong> The Call is from ex14 and was ran in a terminal</strong>"
   ]
  },
  {
   "cell_type": "markdown",
   "metadata": {},
   "source": [
    "## Excersice 15 Reding files "
   ]
  },
  {
   "cell_type": "code",
   "execution_count": null,
   "metadata": {},
   "outputs": [],
   "source": [
    "from sys import argv\n",
    "\n",
    "script , filename = argv\n",
    "txt = open(filename)\n",
    "\n",
    "print(f\"Here's your file {filename}:\" )\n",
    "print(txt.read())\n",
    "\n",
    "print(\"Type the filename again:\")\n",
    "file_again=input(\"> \")\n",
    "\n",
    "txt_again= open(file_again)\n",
    "\n",
    "print(txt_again.read())from sys import argv\n",
    "\n",
    "script , filename = argv\n",
    "txt = open(filename)\n",
    "\n",
    "print(f\"Here's your file {filename}:\" )\n",
    "print(txt.read())\n",
    "\n",
    "print(\"Type the filename again:\")\n",
    "file_again=input(\"> \")\n",
    "\n",
    "txt_again= open(file_again)\n",
    "\n",
    "print(txt_again.read())"
   ]
  },
  {
   "cell_type": "code",
   "execution_count": null,
   "metadata": {},
   "outputs": [],
   "source": [
    "!python ex15.py ex15_text.txt"
   ]
  },
  {
   "cell_type": "code",
   "execution_count": null,
   "metadata": {},
   "outputs": [],
   "source": [
    "PS C:\\Users\\Axel Tovar> python ex15.py ex15_text.txt\n",
    "Here's your file ex15_text.txt:\n",
    "The professor of Probability and Statistics is very smart , the teacher Genaro told us that he has won the contest of programming and mathem\n",
    "atics during 3 years\n",
    "Type the filename again:\n",
    "## I ran this in a terminal because the runnig kernel put me in queue"
   ]
  },
  {
   "cell_type": "markdown",
   "metadata": {},
   "source": [
    "! [title](img/terminal1.png)"
   ]
  },
  {
   "cell_type": "markdown",
   "metadata": {},
   "source": [
    "In this excerise we use create a text and use the the script \"ex15.py\" for read the content"
   ]
  },
  {
   "cell_type": "markdown",
   "metadata": {},
   "source": [
    "## Excersice 16 Reading and Writing Files"
   ]
  },
  {
   "cell_type": "code",
   "execution_count": null,
   "metadata": {},
   "outputs": [],
   "source": [
    "from sys import argv\n",
    "\n",
    "script , filename =argv\n",
    "\n",
    "print(f\"We're going to erase{filename}.\")\n",
    "print(\"If you don't want that hit CTRL-C(^C).\")\n",
    "print(\"If you dont want that hit RETURN.\")\n",
    "\n",
    "input(\"?\")\n",
    "\n",
    "print(\"Opening the file...\")\n",
    "target = open(filename , 'w')\n",
    "\n",
    "print(\"Truncating the file . Goodbye\")\n",
    "target.truncate()\n",
    "\n",
    "print(\"Now I'm going to ask yu for three lines .\")\n",
    "\n",
    "line1= input(\"Line 1: \")\n",
    "line2= input(\"Line 2: \")\n",
    "line3= input(\"Line 3: \")\n",
    "\n",
    "print(\"I'm going to write these to the file \")\n",
    "\n",
    "target.write(line1)\n",
    "target.write(\"\\n\")\n",
    "target.write(line2)\n",
    "target.write(\"\\n\")\n",
    "target.write(line3)\n",
    "target.write(\"\\n\")\n",
    "\n",
    "print(\"And finally, we close it\")\n",
    "target.close()\n"
   ]
  },
  {
   "cell_type": "code",
   "execution_count": null,
   "metadata": {},
   "outputs": [],
   "source": [
    "!python ex16.py test.txt"
   ]
  },
  {
   "cell_type": "code",
   "execution_count": null,
   "metadata": {},
   "outputs": [],
   "source": [
    "PS C:\\Users\\Axel Tovar> python ex16.py test.txt\n",
    "We're going to erasetest.txt.\n",
    "If you don't want that hit CTRL-C(^C).\n",
    "If you dont want that hit RETURN.\n",
    "?RETURN\n",
    "Opening the file...\n",
    "Truncating the file . Goodbye\n",
    "Now I'm going to ask yu for three lines .\n",
    "Line 1: one\n",
    "Line 2: cat\n",
    "Line 3: dead\n",
    "I'm going to write these to the file\n",
    "And finally, we close it\n",
    "## I dont know why the kernel put me on queue and i can run anything this is the reason why i ran the ex16 in the terminal2"
   ]
  },
  {
   "cell_type": "markdown",
   "metadata": {},
   "source": [
    "<strong>In this excersice we use a text and we rewrite the text with the script \"ex16.py\" with the commands of write , open ,truncate and close </strong>"
   ]
  },
  {
   "cell_type": "markdown",
   "metadata": {},
   "source": [
    "## Excersice 17 More files"
   ]
  },
  {
   "cell_type": "code",
   "execution_count": null,
   "metadata": {},
   "outputs": [],
   "source": [
    "from sys import argv\n",
    "from os.path import exists\n",
    "\n",
    "script , from_file , to_file = argv\n",
    "\n",
    "print(f\"Copying from {from_file} to {to_file}\")\n",
    "\n",
    "in_file = open(from_file)\n",
    "indata = in_file.read()\n",
    "\n",
    "print(f\"The input file is {len(indata)} bytes long\")\n",
    "\n",
    "print(f\"Does the output file exist?{exists(to_file)}\")\n",
    "print(\"Ready , hit RETURN to continue , CTRL-C to abort.\")\n",
    "\n",
    "input()\n",
    "\n",
    "out_file = open(to_file , 'w')\n",
    "out_file.write(indata)\n",
    "\n",
    "print(\"Alright , all done.\")\n",
    "\n",
    "out_file.close()\n",
    "in_file.close()\n"
   ]
  },
  {
   "cell_type": "code",
   "execution_count": null,
   "metadata": {},
   "outputs": [],
   "source": [
    "!python ex17.py ex15_text.txt test.txt"
   ]
  },
  {
   "cell_type": "code",
   "execution_count": null,
   "metadata": {},
   "outputs": [],
   "source": [
    "PS C:\\Users\\Axel Tovar> python ex17.py ex15_text.txt test.txt\n",
    "Copying from ex15_text.txt to test.txt\n",
    "The input file is 161 bytes long\n",
    "Does the output file exist?True\n",
    "Ready , hit RETURN to continue , CTRL-C to abort.\n",
    "return\n",
    "Alright , all done."
   ]
  },
  {
   "cell_type": "markdown",
   "metadata": {},
   "source": [
    "In this excersice we copy a text from the other , the new command used is <strong>exists</strong> this return a true if the file exists , based on its name in a string as an argument ."
   ]
  },
  {
   "cell_type": "markdown",
   "metadata": {},
   "source": [
    "## Excersice 18 Names , Variables , Code , Functions "
   ]
  },
  {
   "cell_type": "code",
   "execution_count": null,
   "metadata": {},
   "outputs": [],
   "source": [
    "def print_two(*args):\n",
    "    arg1 , arg2 =args\n",
    "    print(f\"arg1:{arg1} , arg2:{arg2}\")\n",
    "\n",
    "def print_two_again(arg1,arg2):\n",
    "    print(f\"arg1:{arg1} , arg2:{arg1})\n",
    "\n",
    "def print_one(arg1):\n",
    "    print(f\"arg1:{arg1}\")\n",
    "          \n",
    "def print_none():\n",
    "    print(\" I got nothing \")\n",
    "          \n",
    "print_two(\"Axel\" , \"Ben\")\n",
    "print_two_again(\"Axel\",\"Ben\")          \n",
    "print_one(\"First!\")\n",
    "print_none()    "
   ]
  },
  {
   "cell_type": "code",
   "execution_count": null,
   "metadata": {},
   "outputs": [],
   "source": [
    "!python ex18.py "
   ]
  },
  {
   "cell_type": "code",
   "execution_count": null,
   "metadata": {},
   "outputs": [],
   "source": [
    "PS C:\\Users\\Axel Tovar> python ex18.py\n",
    " arg1: Axel , arg2: Ben\n",
    " arg1: Axel , arg2: Ben\n",
    "arg1:First!\n",
    " I got nothing\n",
    "## I copy this from the terminal , because the the kernel keep me in queue"
   ]
  },
  {
   "cell_type": "markdown",
   "metadata": {},
   "source": [
    "The excersice 18 is for the next 3 things :\n",
    "\n",
    "1.- Name pieces of code in the way which variables name strings and numbers\n",
    "2.- Take arguments in the way the scrips take argv\n",
    "3.- Using 1 and 2 they let you make a mini scripts.\n",
    "    "
   ]
  },
  {
   "cell_type": "markdown",
   "metadata": {},
   "source": [
    "## Excersice 19 Functions and Variables "
   ]
  },
  {
   "cell_type": "code",
   "execution_count": null,
   "metadata": {},
   "outputs": [],
   "source": [
    "def cheese_and_crackers(cheese_count , boxes_of _cracker):\n",
    "    print(f\"You have {cheese_count} Cheeses!\")\n",
    "    print(f\"You have {boxes_of_cracker} boxes of cracker\")\n",
    "    print(\"Man that's enough for a party\")\n",
    "    print(\"Get a blanket.\\n\")\n",
    "\n",
    "print(\"We can just give the function numbers directly:\")\n",
    "cheese_and_crackers(20 , 30)\n",
    "\n",
    "\n",
    "print(\"OR , we can use variables from our script: \")\n",
    "amount_of_cheese = 10\n",
    "amount_of_crackers = 50\n",
    "\n",
    "cheese_and_crackers(amount_of_cheese , amount_of_crackers)\n",
    "\n",
    "print(\"And we can combine the two , variables and math:\")\n",
    "cheese_and_crackers(amount_of_cheese * 100 , amount_of_crackers + 1000)"
   ]
  },
  {
   "cell_type": "code",
   "execution_count": null,
   "metadata": {},
   "outputs": [],
   "source": [
    "!python ex19.py"
   ]
  },
  {
   "cell_type": "code",
   "execution_count": null,
   "metadata": {},
   "outputs": [],
   "source": [
    "PS C:\\Users\\Axel Tovar> python ex19.py\n",
    "We can just give the function numbers directly:\n",
    "You have 20 Cheeses!\n",
    "You have 30 boxes of cracker\n",
    "Man that's enough for a party\n",
    "Get a blanket.\n",
    "\n",
    "OR , we can use variables from our script:\n",
    "You have 10 Cheeses!\n",
    "You have 50 boxes of cracker\n",
    "Man that's enough for a party\n",
    "Get a blanket.\n",
    "\n",
    "And we can combine the two , variables and math:\n",
    "You have 1000 Cheeses!\n",
    "You have 1050 boxes of cracker\n",
    "Man that's enough for a party\n",
    "Get a blanket."
   ]
  },
  {
   "cell_type": "markdown",
   "metadata": {},
   "source": [
    "<strong>This excersice show us several ways to give a function \"cheese_and_crackers\"</strong>"
   ]
  },
  {
   "cell_type": "markdown",
   "metadata": {},
   "source": [
    "## Excersice 20 Functions and Files "
   ]
  },
  {
   "cell_type": "code",
   "execution_count": null,
   "metadata": {},
   "outputs": [],
   "source": [
    "PS C:\\Users\\Axel Tovar> python ex20.py test.txt\n",
    "First let's print the whole file :\n",
    "\n",
    "The professor of Probability and Statistics is very smart , the teacher Genaro told us that he has won the contest of programming and mathem\n",
    "atics during 3 years\n",
    "Now let's rewind , kind of like a tape.\n",
    "Now let's print three lines :\n",
    "1 The professor of Probability and Statistics is very smart , the teacher Genaro told us that he has won the contest of programming and math\n",
    "ematics during 3 years\n",
    "2\n",
    "3\n",
    "## This is from the terminal "
   ]
  },
  {
   "cell_type": "markdown",
   "metadata": {},
   "source": [
    "In this excersice we can see how functions and files can work together and make a more useful stuff.\n",
    "\n",
    "Let see how we pass in the current line number each time we run print_a_line."
   ]
  },
  {
   "cell_type": "markdown",
   "metadata": {},
   "source": [
    "## Excersice 21 Functions Can Return Something "
   ]
  },
  {
   "cell_type": "code",
   "execution_count": null,
   "metadata": {},
   "outputs": [],
   "source": [
    "def add(a , b):\n",
    "    print(f\"ADDING {a} + {b})\n",
    "          return a + b\n",
    "          \n",
    "def subtract(a , b):\n",
    "    print(f\"SUBTRACTING {a} - {b}\")\n",
    "    return a - b\n",
    "\n",
    "def multiply(a , b):\n",
    "    print(f\"MULTIPLYING {a} * {b}\")\n",
    "    return a * b \n",
    "          \n",
    "def divide (a , b):\n",
    "    print(f\"DIVIDING {a} / {b}\")\n",
    "    return a / b\n",
    "          \n",
    "print(\"Let's do math with justifications!\")\n",
    "\n",
    "          \n",
    "age= add(30,5)\n",
    "height= subtract(71,4)\n",
    "weight= multiply (5 , 5)\n",
    "iq= divide(100000 , 5)\n",
    "          \n",
    "print(f\" Age: {age} , height: {height} , weight: {weight} , iq: {iq}\")\n",
    "          \n",
    "          \n",
    "print(\"Here is a puzzle.\")\n",
    "          \n",
    "what = add(age , subtract(height , multiply(weight , divide(iq ,2)))) \n",
    "          \n",
    "print(\"That becomes:\" , what , \"Can you do it by hand?\")     "
   ]
  },
  {
   "cell_type": "code",
   "execution_count": null,
   "metadata": {},
   "outputs": [],
   "source": [
    "!python ex21.py\n",
    "\n",
    "PS C:\\Users\\Axel Tovar> python ex21.py\n",
    "Let's do math with justifications!\n",
    "ADDING 30 + 5\n",
    "SUBTRACTING 71 - 4\n",
    "MULTIPLYING 5 * 5\n",
    "DIVIDING 100000 / 5\n",
    " Age: 35 , height: 67 , weight: 25 , iq: 20000.0\n",
    "Here is a puzzle.\n",
    "DIVIDING 20000.0 / 2\n",
    "MULTIPLYING 25 * 10000.0\n",
    "SUBTRACTING 67 - 250000.0\n",
    "ADDING 35 + -249933.0\n",
    "That becomes: -249898.0 Can you do it by hand?\n",
    "    \n",
    "##Another time from the terminal , cause the kernel dosen't work    "
   ]
  },
  {
   "cell_type": "markdown",
   "metadata": {},
   "source": [
    "The excerise 21 is for how to use the \"=\". And how we can make our own math fuctions and call with the arguments a and b."
   ]
  },
  {
   "cell_type": "markdown",
   "metadata": {},
   "source": [
    "## Excersice 40 Modules , Clases , and Objects"
   ]
  },
  {
   "cell_type": "code",
   "execution_count": null,
   "metadata": {},
   "outputs": [],
   "source": [
    "Modules are like modules there are a lot of examples about how to make a dictionary\n"
   ]
  },
  {
   "cell_type": "markdown",
   "metadata": {},
   "source": [
    "The classes are like modules, you can think about a module as a speciallized dictionary that can store in python code so you can access it with the \".\" operator."
   ]
  },
  {
   "cell_type": "markdown",
   "metadata": {},
   "source": [
    "Example of a Class"
   ]
  },
  {
   "cell_type": "code",
   "execution_count": null,
   "metadata": {},
   "outputs": [],
   "source": [
    "class Song(object):\n",
    "    \n",
    "    def _init_(self , lyrics):\n",
    "        sel.lyrics = lyrics\n",
    "        \n",
    "    def sing_me_a_song(self):\n",
    "        for line in self.lyrics:\n",
    "            print(line)\n",
    "            \n",
    "            \n",
    "santaclaus_its_comming = Song([\"You better watch out\",\n",
    "                                \"You better no cry\",\n",
    "                                \"You better not pound\"]) \n",
    "santaclaus_its_comming2 = Song([\"I'm telling you why \",\n",
    "                                \"Santaclaus is comming to town\"])\n",
    "\n",
    "santaclaus_its_comming.sing_me_a_song()\n",
    "\n",
    "santaclaus_its_comming2.sing_me_a_song()\n"
   ]
  },
  {
   "cell_type": "code",
   "execution_count": null,
   "metadata": {},
   "outputs": [],
   "source": []
  },
  {
   "cell_type": "markdown",
   "metadata": {},
   "source": [
    "## Excersice 41 Lerning to speak object - oriented"
   ]
  },
  {
   "cell_type": "markdown",
   "metadata": {},
   "source": [
    "This excersice is for teach how to speak \"object oriented\""
   ]
  },
  {
   "cell_type": "markdown",
   "metadata": {},
   "source": [
    "# WORD DRILLS"
   ]
  },
  {
   "cell_type": "markdown",
   "metadata": {},
   "source": [
    "<strong>class:</strong> Tell python to make a new type of thing\n",
    "<strong>object:</strong> Two meanings : the most basic type of thing , and any instance of some thing.\n",
    "<strong>instance:</strong> What you get when you tell Python to create a class.\n",
    "<strong>def:</strong> How you define a function inside a class.\n",
    "<strong>self:</strong> inside the functions in a class, self is a variablefor the instance/object baing accessed."
   ]
  },
  {
   "cell_type": "markdown",
   "metadata": {},
   "source": [
    "This is a python hack script that will drill you on this words you know in an infinite manners."
   ]
  },
  {
   "cell_type": "code",
   "execution_count": null,
   "metadata": {},
   "outputs": [],
   "source": [
    "import random\n",
    "from urllib.request import urlopen\n",
    "import sys \n",
    "\n",
    "\n",
    "WORD_URL = \"http://learncodethehardway.org/words.txt\"\n",
    "WORDS = []\n",
    "\n",
    "PHRASES = {\n",
    "    \"class%%%(%%%)\":\n",
    "     \"Make a class named %%% that is-a %%%.\"\n",
    "    \"class%%%(object):\\n\\tdef _init_(self ,***)\" :\n",
    "     \"class %%% has-a _init_ that takes self and *** params.\",\n",
    "    \"class %%%(object):\\n\\tdef ***(self , @@@)\":\n",
    "     \"class %%% has-a function *** that takes self and @@@ params.\",\n",
    "    \"*** = %%%()\":\n",
    "      \"Set *** to an instance of class %%% .\",\n",
    "    \"***.*** = '***'\":\n",
    "     \"From *** get the *** attribute ad¿nd set it to '***'.\"\n",
    "}\n",
    "\n",
    "if len(sys.argv) == 2 and sys.argv[1] == \"english\":\n",
    "    PHRASE_FIRST = True\n",
    "else:\n",
    "    PHRASE_FIRST = False\n",
    "    \n",
    "for word in urlopen(WORD_URL).readlines():\n",
    "    WORDS.append(str(word.strip(),encoding=\"utf-8\"))\n",
    "    \n",
    "def convert(snippet , phase):\n",
    "    class_names = [w.capitalize() for w in\n",
    "                   random.sample(WORDS, snippet.count('%%%'))]\n",
    "    other_names = random.sample(WORDS, snippet.count(\"***\"))\n",
    "    results = []\n",
    "    param_names = []\n",
    "    \n",
    "    for i in range(0 , snippet.count(\"@@@\")):\n",
    "        param_count = random.randit(1,3)\n",
    "        param_names.append(' , '.join(\n",
    "            random.sample(WORDS, param_count)))\n",
    "        \n",
    "    for sentence in snippet , phrase:\n",
    "        result = senteces[:]\n",
    "        \n",
    "        for word in class_names:\n",
    "            result = result.remplace(\"%%%\", word , 1)\n",
    "            \n",
    "        for word in other_names:\n",
    "            result = result.remplace(\"***\", word , 1)\n",
    "            \n",
    "        for word in param_names:\n",
    "            result = result.remplace(\"@@@\", word , 1)\n",
    "            \n",
    "        results.append(result)\n",
    "    return results\n",
    "\n",
    "\n",
    "try:\n",
    "    while True:\n",
    "        snippets = list(PHRASES.keys())\n",
    "        random.shuffle(snippets)\n",
    "        \n",
    "        for snippet in snippets:\n",
    "            phrase = PHRASES[snippet]\n",
    "            question , answer = convert(snippet, phrase)\n",
    "            if PHRASE_FIRST:\n",
    "                question, answer = answer , question\n",
    "                \n",
    "            print(question)\n",
    "            \n",
    "            input(\"> \")\n",
    "            print(f\"ANSWER:  {answe}\\n\\n\")\n",
    "            \n",
    "except EOFError:\n",
    "    print(\"\\nBye\")\n",
    "    "
   ]
  },
  {
   "cell_type": "markdown",
   "metadata": {},
   "source": [
    "## Excersice 42 Is-A,Has-A,Objects, and Classes"
   ]
  },
  {
   "cell_type": "markdown",
   "metadata": {},
   "source": [
    "i dont undestand how work this excersice , but the excersice is for when you make a new classes or when you use a class."
   ]
  }
 ],
 "metadata": {
  "kernelspec": {
   "display_name": "Python 3",
   "language": "python",
   "name": "python3"
  },
  "language_info": {
   "codemirror_mode": {
    "name": "ipython",
    "version": 3
   },
   "file_extension": ".py",
   "mimetype": "text/x-python",
   "name": "python",
   "nbconvert_exporter": "python",
   "pygments_lexer": "ipython3",
   "version": "3.7.4"
  }
 },
 "nbformat": 4,
 "nbformat_minor": 4
}
